{
 "cells": [
  {
   "cell_type": "code",
   "execution_count": null,
   "metadata": {},
   "outputs": [],
   "source": [
    "import pandas as pd\n",
    "import numpy as np\n",
    "from sklearn.linear_model import LinearRegression\n",
    "import matplotlib.pyplot as plt\n",
    "\n",
    "#Dados de treinamento\n",
    "vazao = np.array([10, 20, 30, 5, 35, 40]).reshape(-1, 1)\n",
    "nivel = np.array([50, 60, 70, 45, 80, 85]).reshape(-1, 1)\n",
    "#Criar e treinar o modelo de regressão linear\n",
    "modelo = LinearRegression()\n",
    "modelo.fit(vazao, nivel)\n",
    "\n",
    "vazao_teste = np.array([100, 200, 70, 300, 500]).reshape(-1, 1)\n",
    "nivel_previsto = modelo.predict(vazao_teste)\n",
    "\n",
    "for i in range(len(vazao_teste)):\n",
    "    print(f\"Vazão: {vazao_teste[i][0]} m3/min - Nível previsto: {nivel_previsto[i]} metros\")\n",
    "plt.scatter(vazao, nivel, color = 'blue', label = 'Dados de Treinamento')\n",
    "plt.plot(vazao_teste, nivel_previsto, color = 'red', label = 'Dados de teste')\n",
    "plt.xlabel('Vazão de Agua (m3/min)')\n",
    "plt.ylabel('Nível do tanque (metros)')\n",
    "plt.title('Relação entre Vazao de Água e Nível do Tanque')\n",
    "plt.legend()\n",
    "plt.grid(True)\n",
    "plt.show()"
   ]
  },
  {
   "cell_type": "code",
   "execution_count": null,
   "metadata": {},
   "outputs": [],
   "source": [
    "vaza = np.array([10, 20, 30, 5, 35, 40]).reshape(-1,1)\n",
    "print(vaza)"
   ]
  }
 ],
 "metadata": {
  "kernelspec": {
   "display_name": "Python 3",
   "language": "python",
   "name": "python3"
  },
  "language_info": {
   "codemirror_mode": {
    "name": "ipython",
    "version": 3
   },
   "file_extension": ".py",
   "mimetype": "text/x-python",
   "name": "python",
   "nbconvert_exporter": "python",
   "pygments_lexer": "ipython3",
   "version": "3.11.3"
  },
  "orig_nbformat": 4
 },
 "nbformat": 4,
 "nbformat_minor": 2
}
