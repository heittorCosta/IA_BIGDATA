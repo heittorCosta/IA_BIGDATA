{
 "cells": [
  {
   "cell_type": "code",
   "execution_count": null,
   "metadata": {},
   "outputs": [],
   "source": [
    "import pandas as pd # importa a biblioteca pandas\n",
    "import numpy as np #importa a biblioteca numpy"
   ]
  },
  {
   "cell_type": "code",
   "execution_count": null,
   "metadata": {},
   "outputs": [],
   "source": [
    "dados = pd.read_json(path_or_buf='imoveis.json',orient='columns') # importa os dados"
   ]
  },
  {
   "cell_type": "code",
   "execution_count": null,
   "metadata": {},
   "outputs": [],
   "source": [
    "dados"
   ]
  },
  {
   "cell_type": "code",
   "execution_count": null,
   "metadata": {},
   "outputs": [],
   "source": [
    "dados.ident[0] #exibe a primeira linha\n",
    "\n"
   ]
  },
  {
   "cell_type": "code",
   "execution_count": null,
   "metadata": {},
   "outputs": [],
   "source": [
    "dados.listing[0] #lista os dados da primeira linha"
   ]
  },
  {
   "cell_type": "code",
   "execution_count": null,
   "metadata": {},
   "outputs": [],
   "source": [
    "# Pré processamento dos dados\n",
    "#Função normalize\n",
    "dados_lista1 = pd.json_normalize(dados.ident) # serve para transformar os dados em tabela\n",
    "dados_lista1.head() #exibe as primeiras linhas do dataframe"
   ]
  },
  {
   "cell_type": "code",
   "execution_count": null,
   "metadata": {},
   "outputs": [],
   "source": [
    "dados_lista2=pd.json_normalize(dados.listing,sep='_') # serve para transformar os dados em tabela\n",
    "dados_lista2.head() #exibe as primeiras linhas do dataframe"
   ]
  },
  {
   "cell_type": "code",
   "execution_count": null,
   "metadata": {},
   "outputs": [],
   "source": [
    "# Junção dos dataframes\n",
    "dados_imoveis= pd.concat([dados_lista1,dados_lista2],axis=1) # junta os dois dataframes"
   ]
  },
  {
   "cell_type": "code",
   "execution_count": null,
   "metadata": {},
   "outputs": [],
   "source": [
    "dados_imoveis.head() "
   ]
  },
  {
   "cell_type": "code",
   "execution_count": null,
   "metadata": {},
   "outputs": [],
   "source": [
    "dados_imoveis.shape #exibe as dimensoes do dataframe"
   ]
  },
  {
   "cell_type": "code",
   "execution_count": null,
   "metadata": {},
   "outputs": [],
   "source": [
    "for coluna in dados_imoveis.columns: # for para printar as colunas do dataframe\n",
    "    print('---- '*10)\n",
    "    print(dados_imoveis[coluna].value_counts())\n"
   ]
  },
  {
   "cell_type": "code",
   "execution_count": null,
   "metadata": {},
   "outputs": [],
   "source": [
    "#Pré processamento dos dados\n",
    "#aplicando filtros no dataset\n",
    "filtro = (dados_imoveis['types_usage']== 'Residencial' )& (dados_imoveis['address_city']== 'Rio de Janeiro') # aplicando filtro no dataseet\n",
    "dados_imoveis= dados_imoveis[filtro] \n",
    "dados_imoveis.head()"
   ]
  },
  {
   "cell_type": "code",
   "execution_count": null,
   "metadata": {},
   "outputs": [],
   "source": [
    "dados_imoveis.info() # verificando as informações dos dados"
   ]
  },
  {
   "cell_type": "code",
   "execution_count": null,
   "metadata": {},
   "outputs": [],
   "source": [
    "# resetando index\n",
    "dados_imoveis.reset_index(drop= True, inplace = True)  #reseta o index, para que as informações passem a ser ordenadas corretamente"
   ]
  },
  {
   "cell_type": "code",
   "execution_count": null,
   "metadata": {},
   "outputs": [],
   "source": [
    "dados_imoveis.info(verbose= False) # comando para exibir somente os indices sem exibir o conteudo"
   ]
  },
  {
   "cell_type": "code",
   "execution_count": null,
   "metadata": {},
   "outputs": [],
   "source": [
    "#transformação dos tipos de dados \n",
    "dados_imoveis = dados_imoveis.astype({\n",
    "\n",
    "    'prices_price':'float64',\n",
    "    'prices_tax_iptu':'float64',\n",
    "    'prices_tax_condo':'float64',\n",
    "    'features_usableAreas':'int64',\n",
    "    'features_totalAreas':'int64'\n",
    "}\n",
    ")\n",
    "dados_imoveis.info()"
   ]
  },
  {
   "cell_type": "code",
   "execution_count": null,
   "metadata": {},
   "outputs": [],
   "source": [
    "# Lidando com dados nulos\n",
    "dados_imoveis.address_zone.value_counts()"
   ]
  },
  {
   "cell_type": "code",
   "execution_count": null,
   "metadata": {},
   "outputs": [],
   "source": [
    "dados_imoveis['address_zone']=dados_imoveis['address_zone'].replace('',np.nan) #substituição dos valores vazios por nan"
   ]
  },
  {
   "cell_type": "code",
   "execution_count": null,
   "metadata": {},
   "outputs": [],
   "source": [
    "dados_imoveis['address_zone'].isnull().sum() # realizando a soma dos valores vazios"
   ]
  },
  {
   "cell_type": "code",
   "execution_count": null,
   "metadata": {},
   "outputs": [],
   "source": [
    "dados_imoveis.head()"
   ]
  },
  {
   "cell_type": "code",
   "execution_count": null,
   "metadata": {},
   "outputs": [],
   "source": [
    "dici = dados_imoveis[~dados_imoveis['address_zone'].isna()].drop_duplicates(subset=['address_neighborhood']).to_dict('records') # remove valores duplicados\n",
    "print(dici)"
   ]
  },
  {
   "cell_type": "code",
   "execution_count": null,
   "metadata": {},
   "outputs": [],
   "source": [
    "dic_zonas = {dic['address_neighborhood']:dic['address_zone']for dic in dici} #criando dicionario para associar\n",
    "# bairros e zonas\n"
   ]
  },
  {
   "cell_type": "code",
   "execution_count": null,
   "metadata": {},
   "outputs": [],
   "source": [
    "print(dic_zonas)"
   ]
  },
  {
   "cell_type": "code",
   "execution_count": null,
   "metadata": {},
   "outputs": [],
   "source": [
    "#associando o bairro com a zona\n",
    "for bairro, zona in dic_zonas.items(): \n",
    "    dados_imoveis.loc[dados_imoveis['address_neighborhood']==bairro,'address_zone']= zona"
   ]
  },
  {
   "cell_type": "code",
   "execution_count": null,
   "metadata": {},
   "outputs": [],
   "source": [
    "dados_imoveis.head() # exibindo as primeiras linhas"
   ]
  },
  {
   "cell_type": "code",
   "execution_count": null,
   "metadata": {},
   "outputs": [],
   "source": [
    "dados_imoveis['address_zone'].isnull().sum() # verificando se ainda tem valores faltantes"
   ]
  },
  {
   "cell_type": "code",
   "execution_count": null,
   "metadata": {},
   "outputs": [],
   "source": [
    "#verificando se tem outros valores faltantes nas outras colunas\n",
    "dados_imoveis.prices_tax_condo.isnull().sum()"
   ]
  },
  {
   "cell_type": "code",
   "execution_count": null,
   "metadata": {},
   "outputs": [],
   "source": [
    "#verificando se tem outros valores faltantes nas outras colunas\n",
    "dados_imoveis.prices_tax_iptu.isnull().sum()"
   ]
  },
  {
   "cell_type": "code",
   "execution_count": null,
   "metadata": {},
   "outputs": [],
   "source": [
    "#Corrigindo os valores faltantes\n",
    "dados_imoveis.prices_tax_iptu.fillna(0,inplace = True) # função para substituir os valores vazios\n",
    "dados_imoveis.prices_tax_condo.fillna(0,inplace = True) #função para substituir os valores vazios\n",
    "print(f\"Total de prices nulos: {dados_imoveis.prices_tax_iptu.isnull().sum()}\")\n",
    "print(f\"Total de prices nulos: {dados_imoveis.prices_tax_condo.isnull().sum()}\")"
   ]
  },
  {
   "cell_type": "code",
   "execution_count": null,
   "metadata": {},
   "outputs": [],
   "source": [
    "#Remove colunas nao uteis para criar o modelo\n",
    "dados_imoveis.drop(['customerID','source','types_usage','address_city',\n",
    "                    'address_location_lon','address_location_lat','address_neighborhood'],axis=1, inplace= True)"
   ]
  },
  {
   "cell_type": "code",
   "execution_count": null,
   "metadata": {},
   "outputs": [],
   "source": [
    "#criando dicionario para renomear as colunas\n",
    "dic_colunas={\n",
    "    'types_unit':'unit','address_zone': 'zone','prices_price':'price',\n",
    "    'prices_tax_condo':'tax_condo','prices_tax_iptu':'tax_iptu','features_bedrooms':'bedrooms',\n",
    "    'features_bathrooms':'bathrooms','features_suites':'suites','features_parkingSpaces':'parkingSpaces',\n",
    "    'features_usableAreas':'usableAreas', 'features_totalAreas':'totalAreas', 'features_floors':'floors',\n",
    "    'features_unitsOnTheFloor': 'unitsOnTheFloor','features_unitFloor':'unitFloor'\n",
    "}"
   ]
  },
  {
   "cell_type": "code",
   "execution_count": null,
   "metadata": {},
   "outputs": [],
   "source": [
    "#renomeando as colunas\n",
    "dados_imoveis= dados_imoveis.rename(dic_colunas, axis =1) #renomeia as colunas conforme o dicionario criado"
   ]
  },
  {
   "cell_type": "code",
   "execution_count": null,
   "metadata": {},
   "outputs": [],
   "source": [
    "dados_imoveis.head()"
   ]
  },
  {
   "cell_type": "code",
   "execution_count": null,
   "metadata": {},
   "outputs": [],
   "source": [
    "col_n = dados_imoveis.select_dtypes(include=['number']) # selecionando apenas colunas com numeros\n",
    "\n"
   ]
  },
  {
   "cell_type": "code",
   "execution_count": null,
   "metadata": {},
   "outputs": [],
   "source": [
    "correlacao= col_n.corr()"
   ]
  },
  {
   "cell_type": "code",
   "execution_count": null,
   "metadata": {},
   "outputs": [],
   "source": [
    "correlacao"
   ]
  },
  {
   "cell_type": "code",
   "execution_count": null,
   "metadata": {},
   "outputs": [],
   "source": [
    "pip install seaborn"
   ]
  },
  {
   "cell_type": "code",
   "execution_count": null,
   "metadata": {},
   "outputs": [],
   "source": [
    "import matplotlib.pyplot as plt\n",
    "import seaborn as sns\n"
   ]
  },
  {
   "cell_type": "code",
   "execution_count": null,
   "metadata": {},
   "outputs": [],
   "source": [
    "#Visualização das correlações\n",
    "cores = sns.color_palette('light:salmon', as_cmap = True) # personalização das cores\n",
    "mask = np.zeros_like(correlacao)\n",
    "mask[np.triu_indices_from(mask)] = True\n",
    "with sns.axes_style('white'):\n",
    "    f,ax= plt.subplots(figsize=(13,8))\n",
    "    ax = sns.heatmap(correlacao, cmap=cores, mask = mask, square = True, fmt = '.2f',annot = True)"
   ]
  },
  {
   "cell_type": "code",
   "execution_count": null,
   "metadata": {},
   "outputs": [],
   "source": [
    "sns.heatmap(correlacao, cmap='crest')"
   ]
  },
  {
   "cell_type": "code",
   "execution_count": null,
   "metadata": {},
   "outputs": [],
   "source": [
    "plt.figure(figsize=(13,8))\n",
    "mask = np.zeros_like(correlacao)\n",
    "mask[np.triu_indices_from(mask)] = True\n",
    "sns.heatmap(correlacao, cmap='crest', mask = mask, square = True, fmt = '.2f',annot = True)"
   ]
  },
  {
   "cell_type": "code",
   "execution_count": null,
   "metadata": {},
   "outputs": [],
   "source": [
    "ax = sns.histplot(data = dados_imoveis, x ='price', kde= True)\n",
    "ax.figure.set_size_inches(20,10)\n",
    "ax.set_title('Histograma de preços')\n",
    "ax.set_xlabel('Preços')\n",
    "ax.set_xlabel('Preço');"
   ]
  },
  {
   "cell_type": "markdown",
   "metadata": {},
   "source": [
    "Transformação das variáveis\n",
    "Estamos realizando uma transformação logarítmica das variáveis para obtermos uma distribuição simétrica (mais próxima da normal), para que possamos usar o modelo de regressão linear. A transformação realizada é:\n",
    "\n",
    "Lembrar de realizar a transformação inversa para obter o valor original:\n",
    "\n",
    "Para mais detalhes consultar as documentações log1p, expm1 e FunctionTransformer"
   ]
  },
  {
   "cell_type": "code",
   "execution_count": null,
   "metadata": {},
   "outputs": [],
   "source": [
    "from sklearn.preprocessing import FunctionTransformer #importar metodo para realizar a transformação dos dados"
   ]
  },
  {
   "cell_type": "code",
   "execution_count": null,
   "metadata": {},
   "outputs": [],
   "source": [
    "transformer = FunctionTransformer(np.log1p, validate=True)\n",
    "dados_transformados = transformer.transform(dados_imoveis.select_dtypes(exclude=['object'])) #exclui dados que não sao numéricos"
   ]
  },
  {
   "cell_type": "code",
   "execution_count": null,
   "metadata": {},
   "outputs": [],
   "source": [
    "colunas_dados_tranformados = dados_imoveis.select_dtypes(exclude=['object']).columns\n",
    "\n",
    "df_transformado = pd.concat([dados_imoveis.select_dtypes(include=['object']), pd.DataFrame(dados_transformados, columns=colunas_dados_tranformados)], axis=1)\n",
    "df_transformado.head()"
   ]
  },
  {
   "cell_type": "code",
   "execution_count": null,
   "metadata": {},
   "outputs": [],
   "source": [
    "#depois da transformação\n",
    "col_n = dados_imoveis.select_dtypes(include=['number']) # selecionando apenas colunas com numeros\n",
    "correlacao_transformado = col_n.corr()\n",
    "mask = np.zeros_like(correlacao_transformado)\n",
    "mask[np.triu_indices_from(mask)] = True\n",
    "with sns.axes_style(\"white\"):\n",
    "    f, ax = plt.subplots(figsize=(13, 8))\n",
    "    ax = sns.heatmap(correlacao_transformado, cmap=cores, mask=mask, square=True, fmt='.2f', annot=True)\n",
    "    ax.set_title('Correlação entre variáveis - Tranformação Log', fontsize=20)"
   ]
  },
  {
   "cell_type": "code",
   "execution_count": null,
   "metadata": {},
   "outputs": [],
   "source": [
    "#depois (distrib. simétrica)\n",
    "ax = sns.histplot(data=df_transformado, x='price', kde=True)\n",
    "ax.figure.set_size_inches(20, 10)\n",
    "ax.set_title('Histograma de preços')\n",
    "ax.set_xlabel('Preço');"
   ]
  },
  {
   "cell_type": "code",
   "execution_count": null,
   "metadata": {},
   "outputs": [],
   "source": [
    "variaveis_categoricas = df_transformado.select_dtypes(include=['object']).columns #variaveis categóricas"
   ]
  },
  {
   "cell_type": "code",
   "execution_count": null,
   "metadata": {},
   "outputs": [],
   "source": [
    "df_dummies = pd.get_dummies(df_transformado[variaveis_categoricas]) # cria uma nova coluna com variaveis categóricas\n",
    "df_dummies.head()"
   ]
  },
  {
   "cell_type": "code",
   "execution_count": null,
   "metadata": {},
   "outputs": [],
   "source": [
    "dados_imoveis_dummies = pd.concat([df_transformado.drop(variaveis_categoricas, axis=1), df_dummies], axis=1) \n",
    "dados_imoveis_dummies.head()"
   ]
  },
  {
   "cell_type": "markdown",
   "metadata": {},
   "source": [
    "Ajustes e previsão"
   ]
  },
  {
   "cell_type": "code",
   "execution_count": null,
   "metadata": {},
   "outputs": [],
   "source": [
    "#Ajuste e previsao\n",
    "#variáveis explanatórias (independentes)\n",
    "X = dados_imoveis_dummies.drop('price', axis=1)\n",
    "\n",
    "#variável dependente / Variavel dependente\n",
    "y = dados_imoveis_dummies['price']"
   ]
  },
  {
   "cell_type": "code",
   "execution_count": null,
   "metadata": {},
   "outputs": [],
   "source": [
    "from sklearn.model_selection import train_test_split #Dividir o conjunto de dados para treino e teste"
   ]
  },
  {
   "cell_type": "code",
   "execution_count": null,
   "metadata": {},
   "outputs": [],
   "source": [
    "#divisão em conjunto de treino e teste\n",
    "#random_state - estado de aleatoriedade\n",
    "X_treino, X_teste, y_treino, y_teste = train_test_split(X, y, test_size=0.3, random_state=42) #função para dividir o conjunto de dados"
   ]
  },
  {
   "cell_type": "code",
   "execution_count": null,
   "metadata": {},
   "outputs": [],
   "source": [
    "from sklearn.linear_model import LinearRegression # importa o modelo de regressao linear\n"
   ]
  },
  {
   "cell_type": "code",
   "execution_count": null,
   "metadata": {},
   "outputs": [],
   "source": [
    "#Instanciando o modelo\n",
    "lr = LinearRegression()"
   ]
  },
  {
   "cell_type": "code",
   "execution_count": null,
   "metadata": {},
   "outputs": [],
   "source": [
    "#treino\n",
    "lr.fit(X_treino, y_treino) #treino do modelo"
   ]
  },
  {
   "cell_type": "code",
   "execution_count": null,
   "metadata": {},
   "outputs": [],
   "source": [
    "#teste\n",
    "previsao_lr = lr.predict(X_teste)"
   ]
  },
  {
   "cell_type": "code",
   "execution_count": null,
   "metadata": {},
   "outputs": [],
   "source": [
    "X_teste"
   ]
  },
  {
   "cell_type": "code",
   "execution_count": null,
   "metadata": {},
   "outputs": [],
   "source": [
    "np.expm1(7.49)"
   ]
  },
  {
   "cell_type": "code",
   "execution_count": null,
   "metadata": {},
   "outputs": [],
   "source": [
    "dados_imoveis.head(5)"
   ]
  },
  {
   "cell_type": "code",
   "execution_count": null,
   "metadata": {},
   "outputs": [],
   "source": [
    "#resultados da previsão\n",
    "previsao_lr"
   ]
  },
  {
   "cell_type": "code",
   "execution_count": null,
   "metadata": {},
   "outputs": [],
   "source": [
    "np.expm1(12.45)"
   ]
  },
  {
   "cell_type": "code",
   "execution_count": null,
   "metadata": {},
   "outputs": [],
   "source": [
    "np.expm1(13.13161073)"
   ]
  },
  {
   "cell_type": "code",
   "execution_count": null,
   "metadata": {},
   "outputs": [],
   "source": [
    "#transformação inversa \n",
    "np.expm1(13.25768024)"
   ]
  },
  {
   "cell_type": "markdown",
   "metadata": {},
   "source": [
    "2.4 - Métrica de desempenho\n",
    "Coeficiente de Determinação\n",
    "descobrir quão “bem” uma linha de regressão amostral é adequada aos dados\n",
    "r2 situa-se entre 0 e 1\n",
    "\"r2 mede a proporção ou percentual da variação total de Y explicada pelo modelo de regressão.\""
   ]
  },
  {
   "cell_type": "code",
   "execution_count": null,
   "metadata": {},
   "outputs": [],
   "source": [
    "#importar a biblioteca para calcular a métrica r2_score\n",
    "from sklearn.metrics import r2_score "
   ]
  },
  {
   "cell_type": "code",
   "execution_count": null,
   "metadata": {},
   "outputs": [],
   "source": [
    "r2_lr = r2_score(y_teste, previsao_lr)\n",
    "r2_lr"
   ]
  },
  {
   "cell_type": "markdown",
   "metadata": {},
   "source": [
    "Extra\n",
    "Documentação Sklearn - Métricas para Regressão\n",
    "\n",
    "Observação: Estas métricas dependem da escala dos dados!!!\n",
    "\n",
    "MSE (Mean Squared Error ou Erro Quadrático Médio): média da diferença elevada ao quadrado entre o valor real e o previsto. (penalidade sobre o erro)\n",
    "\n",
    "MAE (Mean Absolute Error ou Erro Absoluto Médio): média da diferença absoluta (módulo) entre o valor real e o previsto."
   ]
  },
  {
   "cell_type": "code",
   "execution_count": null,
   "metadata": {},
   "outputs": [],
   "source": [
    "from sklearn.metrics import r2_score\n",
    "y_true = [3, -0.5, 2, 7]\n",
    "y_pred = [2.5, 0.0, 2, 8]\n",
    "r2_score(y_true, y_pred)"
   ]
  },
  {
   "cell_type": "code",
   "execution_count": null,
   "metadata": {},
   "outputs": [],
   "source": [
    "from sklearn.metrics import mean_absolute_error\n",
    "\n",
    "y_true = [3, -0.5, 2, 7]\n",
    "y_pred = [2.5, 0.0, 2, 8]\n",
    "mean_absolute_error(y_true, y_pred)"
   ]
  },
  {
   "cell_type": "code",
   "execution_count": null,
   "metadata": {},
   "outputs": [],
   "source": [
    "from sklearn.metrics import mean_squared_error\n",
    "\n",
    "y_true = [[0.5, 1],[-1, 1],[7, -6]]\n",
    "y_pred = [[0, 2],[-1, 2],[8, -5]]\n",
    "\n",
    "mean_squared_error(y_true, y_pred, squared=True)\n"
   ]
  },
  {
   "cell_type": "code",
   "execution_count": null,
   "metadata": {},
   "outputs": [],
   "source": [
    "from sklearn.metrics import mean_squared_error\n",
    "\n",
    "y_true = [[0.5, 1],[-1, 1],[7, -6]]\n",
    "y_pred = [[0, 2],[-1, 2],[8, -5]]\n",
    "\n",
    "mean_squared_error(y_true, y_pred, squared=False)"
   ]
  },
  {
   "cell_type": "code",
   "execution_count": null,
   "metadata": {},
   "outputs": [],
   "source": [
    "from sklearn.metrics import mean_absolute_percentage_error\n",
    "\n",
    "y_true = [3, -0.5, 2, 7]\n",
    "y_pred = [2.5, 0.0, 2, 8]\n",
    "\n",
    "mean_absolute_percentage_error(y_true, y_pred)\n"
   ]
  },
  {
   "cell_type": "code",
   "execution_count": null,
   "metadata": {},
   "outputs": [],
   "source": [
    "from sklearn.metrics import mean_absolute_percentage_error\n",
    "mape = mean_absolute_percentage_error(y_teste, previsao_lr)\n",
    "mape"
   ]
  },
  {
   "cell_type": "code",
   "execution_count": null,
   "metadata": {},
   "outputs": [],
   "source": [
    "from sklearn.metrics import mean_squared_error\n",
    "mse = mean_squared_error(y_teste, previsao_lr)\n",
    "mse"
   ]
  },
  {
   "cell_type": "code",
   "execution_count": null,
   "metadata": {},
   "outputs": [],
   "source": [
    "from sklearn.metrics import mean_squared_error\n",
    "y_true = [3, -0.5, 2, 7]\n",
    "y_pred = [2.5, 0.0, 2, 8]\n",
    "mean_squared_error(y_true, y_pred)\n"
   ]
  },
  {
   "cell_type": "code",
   "execution_count": null,
   "metadata": {},
   "outputs": [],
   "source": [
    "from sklearn.metrics import mean_absolute_percentage_error\n",
    "y_true = [3, -0.5, 2, 7]\n",
    "y_pred = [2.5, 0.0, 2, 8]\n",
    "mean_absolute_percentage_error(y_true, y_pred)"
   ]
  },
  {
   "cell_type": "code",
   "execution_count": null,
   "metadata": {},
   "outputs": [],
   "source": [
    "#arvore de decisão para regressao\n",
    "from sklearn.tree import DecisionTreeRegressor"
   ]
  },
  {
   "cell_type": "code",
   "execution_count": null,
   "metadata": {},
   "outputs": [],
   "source": [
    "#Instanciando o modelo\n",
    "dtr = DecisionTreeRegressor(random_state=42,max_depth=5) #random_state garante que a estrutura da árvore será reprodutivel\n",
    "#max_depth define o tamanho da arvore\n"
   ]
  },
  {
   "cell_type": "code",
   "execution_count": null,
   "metadata": {},
   "outputs": [],
   "source": [
    "#treino\n",
    "dtr.fit(X_treino,y_treino)"
   ]
  },
  {
   "cell_type": "code",
   "execution_count": null,
   "metadata": {},
   "outputs": [],
   "source": [
    "#teste\n",
    "previsao_dtr = dtr.predict(X_teste)"
   ]
  },
  {
   "cell_type": "code",
   "execution_count": null,
   "metadata": {},
   "outputs": [],
   "source": [
    "previsao_dtr"
   ]
  },
  {
   "cell_type": "code",
   "execution_count": null,
   "metadata": {},
   "outputs": [],
   "source": [
    "np.expm1(13.55136531)"
   ]
  },
  {
   "cell_type": "code",
   "execution_count": null,
   "metadata": {},
   "outputs": [],
   "source": [
    "pip install yellowbrick"
   ]
  },
  {
   "cell_type": "code",
   "execution_count": null,
   "metadata": {},
   "outputs": [],
   "source": [
    "from yellowbrick.regressor import PredictionError"
   ]
  },
  {
   "cell_type": "code",
   "execution_count": null,
   "metadata": {},
   "outputs": [],
   "source": [
    "fig,ax = plt.subplots(figsize=(10,10))\n",
    "pev = PredictionError(dtr)\n",
    "pev.fit(X_treino,y_treino)\n",
    "pev.score(X_teste,y_teste)\n",
    "pev.poof()"
   ]
  },
  {
   "cell_type": "code",
   "execution_count": null,
   "metadata": {},
   "outputs": [],
   "source": [
    "#Metrica\n",
    "r2_dtr = r2_score(y_teste,previsao_dtr)\n",
    "r2_dtr"
   ]
  },
  {
   "cell_type": "markdown",
   "metadata": {},
   "source": [
    "Parâmetros Decision Tree Regressor\n",
    "n_estimators: quantidade de arvores na floresta\n",
    "bootstrap: define se será utilizado o metódo estatístico de amostragem bootstrap\n",
    "oob_Score: define se será utilizado o método de amostragem out of bag para mensurar os erros da predição\n",
    "n_jobs: número de jobs rodando paralelamente (computação paralela - processadores)\n",
    "warm_start: faz a adequação de uma nova floresta ou usa uma floresta existente\n",
    "max_samples: para o caso do bootstrap ser True, define o número de amostras a serem extraídas de X, para treinar\n",
    "cada arvore base"
   ]
  },
  {
   "cell_type": "code",
   "execution_count": null,
   "metadata": {},
   "outputs": [],
   "source": [
    "#Metódo Ensemble\n",
    "#Random Forest\n",
    "from sklearn.ensemble import RandomForestRegressor\n"
   ]
  },
  {
   "cell_type": "code",
   "execution_count": null,
   "metadata": {},
   "outputs": [],
   "source": [
    "rf = RandomForestRegressor(random_state=42, max_depth=5, n_estimators=10)"
   ]
  },
  {
   "cell_type": "code",
   "execution_count": null,
   "metadata": {},
   "outputs": [],
   "source": [
    "rf.fit(X_treino,y_treino)"
   ]
  },
  {
   "cell_type": "code",
   "execution_count": null,
   "metadata": {},
   "outputs": [],
   "source": [
    "previsao_rf = rf.predict(X_teste)"
   ]
  },
  {
   "cell_type": "code",
   "execution_count": null,
   "metadata": {},
   "outputs": [],
   "source": [
    "previsao_rf"
   ]
  },
  {
   "cell_type": "code",
   "execution_count": null,
   "metadata": {},
   "outputs": [],
   "source": [
    "np.expm1(13.53707348)"
   ]
  },
  {
   "cell_type": "code",
   "execution_count": null,
   "metadata": {},
   "outputs": [],
   "source": [
    "from yellowbrick.regressor import PredictionError"
   ]
  },
  {
   "cell_type": "code",
   "execution_count": null,
   "metadata": {},
   "outputs": [],
   "source": [
    "fig, ax = plt.subplots(figsize=(10,10))\n",
    "pev = PredictionError(rf)\n",
    "pev.fit(X_treino,y_treino)\n",
    "pev.score(X_teste, y_teste)\n",
    "pev.poof()"
   ]
  },
  {
   "cell_type": "code",
   "execution_count": null,
   "metadata": {},
   "outputs": [],
   "source": [
    "#Metricas de desempenho\n",
    "r2_rf = r2_score(y_teste,previsao_rf)\n",
    "r2_rf"
   ]
  },
  {
   "cell_type": "code",
   "execution_count": null,
   "metadata": {},
   "outputs": [],
   "source": [
    "metricas_modelo_ML = pd.DataFrame({\n",
    "    'Modelo': ['Regressao Linear', 'Árvore de decisão','Random Forest'],\n",
    "     'Metricas': ['R2','MSE','MAE']\n",
    "})"
   ]
  },
  {
   "cell_type": "code",
   "execution_count": null,
   "metadata": {},
   "outputs": [],
   "source": [
    "from sklearn.metrics import r2_score, mean_squared_error,mean_absolute_error"
   ]
  },
  {
   "cell_type": "code",
   "execution_count": null,
   "metadata": {},
   "outputs": [],
   "source": [
    "def obter_metrica(modelo, X_teste, y_teste, nome):\n",
    "    predict = modelo.predict(X_teste)\n",
    "    df_metricas = pd.DataFrame({\n",
    "        'R2':[r2_score(y_teste,predict)],\n",
    "        'MSE':[mean_squared_error(y_teste,predict)],\n",
    "        'MAE':[mean_absolute_error(y_teste,predict)]\n",
    "    },index=[nome])\n",
    "    return df_metricas"
   ]
  },
  {
   "cell_type": "code",
   "execution_count": null,
   "metadata": {},
   "outputs": [],
   "source": [
    "def tabela_metricas(modelo_reg_linear, modelo_dt, modelo_rf, X_teste, y_teste):\n",
    "    df_metricas_reg_linear = obter_metrica(modelo_reg_linear, X_teste, y_teste, 'Linear Regression')\n",
    "    df_metricas_dt = obter_metrica(modelo_dt, X_teste, y_teste, 'Decision Tree Regression')\n",
    "    df_metricas_rf = obter_metrica(modelo_rf, X_teste, y_teste, 'Random Forest Regression')\n",
    "\n",
    "    return pd.concat([df_metricas_reg_linear, df_metricas_dt, df_metricas_rf])"
   ]
  },
  {
   "cell_type": "code",
   "execution_count": null,
   "metadata": {},
   "outputs": [],
   "source": [
    "tabela_metricas(lr, dtr, rf, X_teste, y_teste)"
   ]
  },
  {
   "cell_type": "code",
   "execution_count": null,
   "metadata": {},
   "outputs": [],
   "source": [
    "metricas_modelo_ML.head()"
   ]
  }
 ],
 "metadata": {
  "kernelspec": {
   "display_name": "Python 3",
   "language": "python",
   "name": "python3"
  },
  "language_info": {
   "codemirror_mode": {
    "name": "ipython",
    "version": 3
   },
   "file_extension": ".py",
   "mimetype": "text/x-python",
   "name": "python",
   "nbconvert_exporter": "python",
   "pygments_lexer": "ipython3",
   "version": "3.11.3"
  },
  "orig_nbformat": 4
 },
 "nbformat": 4,
 "nbformat_minor": 2
}
