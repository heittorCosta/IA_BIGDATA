{
 "cells": [
  {
   "cell_type": "code",
   "execution_count": null,
   "metadata": {},
   "outputs": [],
   "source": [
    "import pandas as pd"
   ]
  },
  {
   "cell_type": "code",
   "execution_count": null,
   "metadata": {},
   "outputs": [],
   "source": [
    "df = pd.read_csv(\"creditcard.csv\", sep=\",\")\n",
    "# df.head()\n",
    "\n",
    "# df.info()\n",
    "df.describe()"
   ]
  },
  {
   "cell_type": "code",
   "execution_count": 15,
   "metadata": {},
   "outputs": [
    {
     "name": "stdout",
     "output_type": "stream",
     "text": [
      "Número de transações : 284807\n",
      "Transações com fraudes : 492\n",
      "Transações normais : 284315\n",
      "Porcentagem de transações com fraude 0.001727485630620034\n",
      "Porcentagem de transações normais 0.001727485630620034\n"
     ]
    }
   ],
   "source": [
    "n_transacoes = df[\"Class\"].count()\n",
    "n_fraudes = df[\"Class\"].sum()\n",
    "n_normais = n_transacoes - n_fraudes\n",
    "fraudes_porc = n_fraudes / n_transacoes\n",
    "print(f\"Número de transações : {n_transacoes}\")\n",
    "print(f\"Transações com fraudes : {n_fraudes}\")\n",
    "print(f\"Transações normais : {n_normais}\")\n",
    "print(f\"Porcentagem de transações com fraude {fraudes_porc}\")\n",
    "\n",
    "normais_porc = n_transacoes / n_fraudes\n",
    "print(f\"Porcentagem de transações normais {fraudes_porc}\")"
   ]
  },
  {
   "cell_type": "code",
   "execution_count": 17,
   "metadata": {},
   "outputs": [],
   "source": [
    "x = df.drop('Class', axis=1).values   #Removendo a coluna Class para poder prever o valor.\n",
    "y = df['Class'].values  #Dados reais que serão utilizados para treinar o modelo"
   ]
  },
  {
   "cell_type": "code",
   "execution_count": 20,
   "metadata": {},
   "outputs": [],
   "source": [
    "from sklearn.model_selection import StratifiedShuffleSplit #biblioteca para dividir o dataframe de forma simétrica\n",
    "\n",
    "validador = StratifiedShuffleSplit(n_splits=1, test_size=0.1, random_state=0)\n",
    "for treino_id, teste_id in validador.split(x,y):\n",
    "    x_train, x_test = x[treino_id], x[teste_id]\n",
    "    y_train, y_test = y[treino_id], y[teste_id]"
   ]
  },
  {
   "cell_type": "code",
   "execution_count": 21,
   "metadata": {},
   "outputs": [],
   "source": [
    "from sklearn import tree\n",
    "classificador_arvore_decisao = tree.DecisionTreeClassifier()"
   ]
  },
  {
   "cell_type": "code",
   "execution_count": 22,
   "metadata": {},
   "outputs": [],
   "source": [
    "arvore = classificador_arvore_decisao.fit(x_train, y_train)\n",
    "y_pred = arvore.predict(x_test)\n",
    "\n",
    "def validador(x,y):\n",
    "    validador = StratifiedShuffleSplit(n_splits=1, test_size=0.1, random_state=0)\n",
    "    for treino_id, teste_id in validador.split(x,y):\n",
    "        x_train, x_test = x[treino_id, x[teste_id]]\n",
    "        y_train, y_test = y[treino_id, y[teste_id]]\n",
    "    return x_train, x_test, y_train, y_test    "
   ]
  },
  {
   "cell_type": "code",
   "execution_count": 23,
   "metadata": {},
   "outputs": [],
   "source": [
    "def executar_classificador(classificador, x_train, x_test, y_train):\n",
    "    arvore = classificador.fit(x_train,y_train)\n",
    "    y_pred = arvore.predict(x_test)\n",
    "    return y_pred"
   ]
  },
  {
   "cell_type": "code",
   "execution_count": 26,
   "metadata": {},
   "outputs": [],
   "source": [
    "classificador_arvore_decisao = tree.DecisionTreeClassifier()\n",
    "y_pred_arvore_decisao = executar_classificador(classificador_arvore_decisao,x_train,x_test,y_train)\n",
    "\n",
    "import matplotlib.pyplot as plt\n",
    "\n",
    "def salvar_arvore(classificador_arvore_decisao, nome):\n",
    "    plt.figure(figsize=(200,100))\n",
    "    tree.plot_tree(classificador_arvore_decisao, filled=True, fontsize=14)\n",
    "    plt.savefig('arvoreTransaction.jpg')\n",
    "    plt.close()"
   ]
  },
  {
   "cell_type": "code",
   "execution_count": null,
   "metadata": {},
   "outputs": [],
   "source": [
    "salvar_arvore(classificador_arvore_decisao, \"arvore_decisao.png\")"
   ]
  }
 ],
 "metadata": {
  "kernelspec": {
   "display_name": "Python 3",
   "language": "python",
   "name": "python3"
  },
  "language_info": {
   "codemirror_mode": {
    "name": "ipython",
    "version": 3
   },
   "file_extension": ".py",
   "mimetype": "text/x-python",
   "name": "python",
   "nbconvert_exporter": "python",
   "pygments_lexer": "ipython3",
   "version": "3.11.3"
  },
  "orig_nbformat": 4
 },
 "nbformat": 4,
 "nbformat_minor": 2
}
