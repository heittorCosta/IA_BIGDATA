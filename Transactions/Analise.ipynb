{
 "cells": [
  {
   "cell_type": "code",
   "execution_count": null,
   "metadata": {},
   "outputs": [],
   "source": [
    "import pandas as pd"
   ]
  },
  {
   "cell_type": "code",
   "execution_count": null,
   "metadata": {},
   "outputs": [],
   "source": [
    "df = pd.read_csv(\"creditcard.csv\", sep=\",\")\n",
    "# df.head()\n",
    "\n",
    "# df.info()\n",
    "df.describe()"
   ]
  },
  {
   "cell_type": "code",
   "execution_count": 10,
   "metadata": {},
   "outputs": [
    {
     "name": "stdout",
     "output_type": "stream",
     "text": [
      "Número de transações : 284807\n",
      "Transações com fraudes : 492\n",
      "Transações normais : 284315\n"
     ]
    }
   ],
   "source": [
    "n_transacoes = df[\"Class\"].count()\n",
    "n_fraudes = df[\"Class\"].sum()\n",
    "n_normais = n_transacoes - n_fraudes\n",
    "print(f\"Número de transações : {n_transacoes}\")\n",
    "print(f\"Transações com fraudes : {n_fraudes}\")\n",
    "print(f\"Transações normais : {n_normais}\")"
   ]
  }
 ],
 "metadata": {
  "kernelspec": {
   "display_name": "Python 3",
   "language": "python",
   "name": "python3"
  },
  "language_info": {
   "codemirror_mode": {
    "name": "ipython",
    "version": 3
   },
   "file_extension": ".py",
   "mimetype": "text/x-python",
   "name": "python",
   "nbconvert_exporter": "python",
   "pygments_lexer": "ipython3",
   "version": "3.11.3"
  },
  "orig_nbformat": 4
 },
 "nbformat": 4,
 "nbformat_minor": 2
}
